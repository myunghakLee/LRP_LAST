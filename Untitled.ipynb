{
 "cells": [
  {
   "cell_type": "code",
   "execution_count": 1,
   "id": "131861b0",
   "metadata": {
    "ExecuteTime": {
     "end_time": "2022-03-12T23:04:07.421724Z",
     "start_time": "2022-03-12T23:04:06.174524Z"
    }
   },
   "outputs": [],
   "source": [
    "import torch\n"
   ]
  },
  {
   "cell_type": "code",
   "execution_count": 4,
   "id": "83398e83",
   "metadata": {
    "ExecuteTime": {
     "end_time": "2022-03-12T23:04:40.285039Z",
     "start_time": "2022-03-12T23:04:40.281139Z"
    }
   },
   "outputs": [],
   "source": [
    "from torch.optim.lr_scheduler import _LRScheduler\n",
    "from torch.utils.data import Dataset, DataLoader\n",
    "import torchvision.transforms as transforms\n",
    "from torch.utils.data import DataLoader\n",
    "from glob import glob\n",
    "import torchvision\n",
    "import datetime\n",
    "import numpy\n",
    "import torch\n",
    "import pickle\n",
    "import time\n",
    "import sys\n",
    "import os\n",
    "import re\n",
    "\n",
    "import torch.nn.functional as F\n"
   ]
  },
  {
   "cell_type": "code",
   "execution_count": 8,
   "id": "6dbbf0b9",
   "metadata": {
    "ExecuteTime": {
     "end_time": "2022-03-12T23:06:47.968684Z",
     "start_time": "2022-03-12T23:06:47.963071Z"
    }
   },
   "outputs": [],
   "source": [
    "import utils\n",
    "import settings"
   ]
  },
  {
   "cell_type": "code",
   "execution_count": 5,
   "id": "8fa407de",
   "metadata": {
    "ExecuteTime": {
     "end_time": "2022-03-12T23:04:44.610309Z",
     "start_time": "2022-03-12T23:04:44.602511Z"
    }
   },
   "outputs": [],
   "source": [
    "class Cifar100(Dataset):\n",
    "    def __init__(self, data_dir, transform = None):\n",
    "        self.transform = transform\n",
    "        self.train_data = []\n",
    "        self.train_files = glob(data_dir + \"/*.pickle\")\n",
    "\n",
    "\n",
    "    def __len__(self):\n",
    "        return len(self.train_files)\n",
    "\n",
    "    def __getitem__(self,idx):\n",
    "        with open(self.train_files[idx], 'rb') as f:\n",
    "            data = pickle.load(f)\n",
    "        return data['img'], data['softlabel'], data['label']"
   ]
  },
  {
   "cell_type": "code",
   "execution_count": 17,
   "id": "efad7ea6",
   "metadata": {
    "ExecuteTime": {
     "end_time": "2022-03-12T23:08:48.396935Z",
     "start_time": "2022-03-12T23:08:48.359096Z"
    }
   },
   "outputs": [],
   "source": [
    "data_dir = \"LRP_data_resnext101_32x8d_0_8514/test/\"\n",
    "\n",
    "\n",
    "transform_test = transforms.Compose([\n",
    "    transforms.ToTensor(),\n",
    "    transforms.Normalize(settings.CIFAR100_TRAIN_MEAN, settings.CIFAR100_TRAIN_STD)\n",
    "])\n",
    "\n",
    "\n",
    "cifar100_test = Cifar100(transform=transform_test, data_dir = data_dir)\n"
   ]
  },
  {
   "cell_type": "code",
   "execution_count": 18,
   "id": "24286b08",
   "metadata": {
    "ExecuteTime": {
     "end_time": "2022-03-12T23:08:49.300941Z",
     "start_time": "2022-03-12T23:08:48.624277Z"
    }
   },
   "outputs": [
    {
     "name": "stdout",
     "output_type": "stream",
     "text": [
      "Files already downloaded and verified\n"
     ]
    }
   ],
   "source": [
    "transform_test = transforms.Compose([\n",
    "    transforms.ToTensor(),\n",
    "    transforms.Normalize(settings.CIFAR100_TRAIN_MEAN, settings.CIFAR100_TRAIN_STD)\n",
    "])\n",
    "#cifar100_test = CIFAR100Test(path, transform=transform_test)\n",
    "cifar100_test2 = torchvision.datasets.CIFAR100(root='./data', train=False, download=True, transform=transform_test)\n"
   ]
  },
  {
   "cell_type": "code",
   "execution_count": 52,
   "id": "2736746e",
   "metadata": {
    "ExecuteTime": {
     "end_time": "2022-03-12T23:22:07.042699Z",
     "start_time": "2022-03-12T23:22:04.379160Z"
    }
   },
   "outputs": [],
   "source": [
    "import numpy as np\n",
    "c = 0\n",
    "for d in cifar100_test:\n",
    "\n",
    "    c += int(d[2]== np.argmax(d[1]))"
   ]
  },
  {
   "cell_type": "code",
   "execution_count": 53,
   "id": "b67a3f9a",
   "metadata": {
    "ExecuteTime": {
     "end_time": "2022-03-12T23:22:07.262286Z",
     "start_time": "2022-03-12T23:22:07.257509Z"
    }
   },
   "outputs": [
    {
     "data": {
      "text/plain": [
       "9745"
      ]
     },
     "execution_count": 53,
     "metadata": {},
     "output_type": "execute_result"
    }
   ],
   "source": [
    "c"
   ]
  },
  {
   "cell_type": "code",
   "execution_count": null,
   "id": "0be6cf00",
   "metadata": {},
   "outputs": [],
   "source": []
  }
 ],
 "metadata": {
  "kernelspec": {
   "display_name": "Python 3",
   "language": "python",
   "name": "python3"
  },
  "language_info": {
   "codemirror_mode": {
    "name": "ipython",
    "version": 3
   },
   "file_extension": ".py",
   "mimetype": "text/x-python",
   "name": "python",
   "nbconvert_exporter": "python",
   "pygments_lexer": "ipython3",
   "version": "3.8.10"
  },
  "toc": {
   "base_numbering": 1,
   "nav_menu": {},
   "number_sections": false,
   "sideBar": true,
   "skip_h1_title": false,
   "title_cell": "Table of Contents",
   "title_sidebar": "Contents",
   "toc_cell": false,
   "toc_position": {},
   "toc_section_display": true,
   "toc_window_display": false
  }
 },
 "nbformat": 4,
 "nbformat_minor": 5
}
